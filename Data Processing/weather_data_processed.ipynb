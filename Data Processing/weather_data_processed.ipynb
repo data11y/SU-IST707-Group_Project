{
  "cells": [
    {
      "cell_type": "markdown",
      "id": "a38a0351",
      "metadata": {},
      "source": [
        "### **Project Title**: Predicting NYC Rideshare Prices Using Subway Delays, Ridership, and Weather Conditions \n",
        "#### ***NYC Weather Data***\n",
        "\n",
        "#### **Source**: Visual Crossing \n",
        "\n",
        "<img src=\"PoweredByVC-WeatherLogo-RoundedRect.png\" alt=\"Alt Text\" width=\"500\" height=\"150\">\n",
        "\n",
        "#### **Website**: https://www.visualcrossing.com/\n",
        "#### **About**: \n",
        "##### Visual Crossing is a leading provider of weather data and enterprise analysis tools to data scientists, business analysts, professionals, and academics. Visual Crossing aims to provide accurate weather data and forecasts by combining data from various sources, including ground-based weather stations, satellites, and radar, and using statistical climate modeling.\n",
        "\n",
        "#### **Weather Data Use Case**: \n",
        "##### Weather data in this project is used to identify how conditions affect rideshare pricing in NYC. It helps capture demand spikes and travel delays caused by adverse weather. This allows for more accurate fare predictions and better planning for both riders and service providers.\n",
        "\n",
        "\n"
      ]
    },
    {
      "cell_type": "code",
      "execution_count": null,
      "id": "4c0d5e4e",
      "metadata": {},
      "outputs": [],
      "source": [
        "import pandas as pd\n",
        "import numpy as np\n"
      ]
    }
  ],
  "metadata": {
    "colab": {
      "provenance": []
    },
    "kernelspec": {
      "display_name": "Python 3",
      "language": "python",
      "name": "python3"
    },
    "language_info": {
      "codemirror_mode": {
        "name": "ipython",
        "version": 3
      },
      "file_extension": ".py",
      "mimetype": "text/x-python",
      "name": "python",
      "nbconvert_exporter": "python",
      "pygments_lexer": "ipython3",
      "version": "3.12.1"
    }
  },
  "nbformat": 4,
  "nbformat_minor": 5
}
