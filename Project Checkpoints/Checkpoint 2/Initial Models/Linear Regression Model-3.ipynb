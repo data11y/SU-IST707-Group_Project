{
  "cells": [
    {
      "cell_type": "markdown",
      "id": "ee46eae8",
      "metadata": {},
      "source": [
        "## Linear Regression Model \n",
        "\n",
        "Goal: Build a LR model that effectively predicts  NYC rideshare prices: using MTA Delays, Ridership, and Weather Conditions\n",
        "\n",
        "### Datasets under consideration\n",
        "\n",
        "Currently, there are multiple datasets we have reviewed:\n",
        "\n",
        "1. Weather (daily/hourly)\n",
        "2. MTA Ridership (daily)\n",
        "3. MTA Subway/Trains Delayed (monthly)\n",
        "4. Uber and Lyft Data 2024 (hourly)"
      ]
    },
    {
      "cell_type": "code",
      "execution_count": null,
      "id": "60233806",
      "metadata": {},
      "outputs": [],
      "source": [
        "\n",
        "\n"
      ]
    }
  ],
  "metadata": {
    "colab": {
      "provenance": []
    },
    "kernelspec": {
      "display_name": "Python 3",
      "language": "python",
      "name": "python3"
    },
    "language_info": {
      "codemirror_mode": {
        "name": "ipython",
        "version": 3
      },
      "file_extension": ".py",
      "mimetype": "text/x-python",
      "name": "python",
      "nbconvert_exporter": "python",
      "pygments_lexer": "ipython3",
      "version": "3.12.1"
    }
  },
  "nbformat": 4,
  "nbformat_minor": 5
}
