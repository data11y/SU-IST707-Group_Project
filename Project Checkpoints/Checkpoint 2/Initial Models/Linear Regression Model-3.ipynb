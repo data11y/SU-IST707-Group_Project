{
  "cells": [
    {
      "cell_type": "markdown",
      "id": "ee46eae8",
      "metadata": {},
      "source": [
        "## Linear Regression Model \n",
        "\n",
        "Goal: Build a LR model that effectively predicts  NYC rideshare prices: using MTA Delays, Ridership, and Weather Conditions\n",
        "\n",
        "### Datasets under consideration\n",
        "\n",
        "Currently, there are multiple datasets we have reviewed:\n",
        "\n",
        "1. Weather (daily/hourly)\n",
        "2. MTA Ridership (daily)\n",
        "3. MTA Subway/Trains Delayed (monthly)\n",
        "4. Uber and Lyft Data 2024 (hourly)"
      ]
    },
    {
      "cell_type": "code",
      "execution_count": null,
      "id": "d5bd1bda",
      "metadata": {},
      "outputs": [],
      "source": [
        "# Import Libraries \n",
        "# in terminal: pip install scikit-learn numpy pandas matplotlib seaborn\n",
        "\n",
        "import sklearn as sk\n",
        "import numpy as np\n",
        "import pandas as pd\n",
        "import matplotlib.pyplot as plt\n",
        "import seaborn as sns"
      ]
    },
    {
      "cell_type": "code",
      "execution_count": 6,
      "id": "60233806",
      "metadata": {},
      "outputs": [],
      "source": [
        "\n",
        "# import data files \n",
        "# chose to use MTA_ridership, uber/lyft, and weather data sets due to available granularity \n",
        "\n",
        "# MTA Ridership (Daily)\n",
        "mta_r = pd.read_csv('/workspaces/SU-IST707-Group_Project/Data Processing/MTA_daily_ridership_cleaned.csv')\n",
        "\n",
        "# Weather (hourly)\n",
        "weather = pd.read_csv('/workspaces/SU-IST707-Group_Project/Data Processing/weather_hourly_cleaned.csv')\n",
        "\n",
        "# 2024 Uber/Lyft (hourly)\n",
        "uber_24 = pd.read_csv('/workspaces/SU-IST707-Group_Project/Project Data (original)/uber_hourly_2024.csv')\n",
        "lyft_24 = pd.read_csv('/workspaces/SU-IST707-Group_Project/Project Data (original)/lyft_hourly_2024.csv')\n"
      ]
    },
    {
      "cell_type": "markdown",
      "id": "6d1c5f3f",
      "metadata": {},
      "source": [
        "### Observations / Initial Thoughts\n",
        "\n",
        "1. (3) datasets have hourly tempos (Uber/Lyft/Weather), (1) dataset has a daily tempos (MTA Ridership)\n"
      ]
    }
  ],
  "metadata": {
    "colab": {
      "provenance": []
    },
    "kernelspec": {
      "display_name": "Python 3",
      "language": "python",
      "name": "python3"
    },
    "language_info": {
      "codemirror_mode": {
        "name": "ipython",
        "version": 3
      },
      "file_extension": ".py",
      "mimetype": "text/x-python",
      "name": "python",
      "nbconvert_exporter": "python",
      "pygments_lexer": "ipython3",
      "version": "3.12.1"
    }
  },
  "nbformat": 4,
  "nbformat_minor": 5
}
